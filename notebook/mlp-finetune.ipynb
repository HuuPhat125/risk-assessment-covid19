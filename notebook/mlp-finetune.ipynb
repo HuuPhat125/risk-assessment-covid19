{
 "cells": [
  {
   "cell_type": "code",
   "execution_count": 1,
   "id": "07001973",
   "metadata": {},
   "outputs": [],
   "source": [
    "%load_ext autoreload\n",
    "%autoreload 2"
   ]
  },
  {
   "cell_type": "markdown",
   "id": "e1925ee2",
   "metadata": {},
   "source": [
    "# Set up"
   ]
  },
  {
   "cell_type": "code",
   "execution_count": 2,
   "id": "041d6133",
   "metadata": {},
   "outputs": [],
   "source": [
    "# import necessary packages \n",
    "import os \n",
    "import numpy as np \n",
    "from pathlib import Path\n",
    "import itertools\n",
    "import pandas as pd"
   ]
  },
  {
   "cell_type": "markdown",
   "id": "27e5e2ae",
   "metadata": {},
   "source": [
    "### Set up parameters"
   ]
  },
  {
   "cell_type": "code",
   "execution_count": 3,
   "id": "2e4de4cd",
   "metadata": {},
   "outputs": [],
   "source": [
    "# Define parameter grid for MLP\n",
    "param_grid = {\n",
    "    'hidden_sizes': [[64, 32], [128, 64], [32, 16]],\n",
    "    'learning_rate': [0.001, 0.01, 0.1],\n",
    "    'activation': ['relu', 'sigmoid']\n",
    "}\n",
    "\n",
    "# Generate all combinations of parameters\n",
    "param_combinations = list(itertools.product(\n",
    "    param_grid['hidden_sizes'],\n",
    "    param_grid['learning_rate'],\n",
    "    param_grid['activation']\n",
    "))"
   ]
  },
  {
   "cell_type": "markdown",
   "id": "9cf12a7a",
   "metadata": {},
   "source": [
    "### Set up data"
   ]
  },
  {
   "cell_type": "code",
   "execution_count": 4,
   "id": "2a9a05d1",
   "metadata": {},
   "outputs": [],
   "source": [
    "# Get data directories\n",
    "data_folder = '../data'\n",
    "train_dir = os.path.join(data_folder, 'train.csv')\n",
    "test_dir = os.path.join(data_folder, 'test.csv')\n",
    "val_dir = os.path.join(data_folder, 'val.csv')"
   ]
  },
  {
   "cell_type": "code",
   "execution_count": 5,
   "id": "4a82323b",
   "metadata": {},
   "outputs": [],
   "source": [
    "# Load data\n",
    "def load_data(data_dir): \n",
    "    df = pd.read_csv(data_dir)\n",
    "    X = df.drop(columns=['TARGET']) \n",
    "    y = df['TARGET'] \n",
    "    return X, y\n",
    "\n",
    "X_train, y_train = load_data(train_dir)\n",
    "X_test, y_test = load_data(test_dir)\n",
    "X_val, y_val = load_data(val_dir)"
   ]
  },
  {
   "cell_type": "markdown",
   "id": "9a904e97",
   "metadata": {},
   "source": [
    "### Set up folder for logging"
   ]
  },
  {
   "cell_type": "code",
   "execution_count": 6,
   "id": "197ee820",
   "metadata": {},
   "outputs": [],
   "source": [
    "experiment_dir = Path('./output/MLP')\n",
    "experiment_dir.mkdir(parents=True, exist_ok=True)"
   ]
  },
  {
   "cell_type": "markdown",
   "id": "e5acf677",
   "metadata": {},
   "source": [
    "# MLP from scratch"
   ]
  },
  {
   "cell_type": "code",
   "execution_count": 7,
   "id": "33bc8d80",
   "metadata": {},
   "outputs": [],
   "source": [
    "# Set up system path\n",
    "import sys\n",
    "project_root = Path('.').resolve().parent\n",
    "src_path = project_root / 'src'\n",
    "if str(src_path) not in sys.path:\n",
    "    sys.path.append(str(src_path))\n",
    "\n",
    "import importlib\n",
    "import train.mlp_trainer\n",
    "import model.mlp\n",
    "importlib.reload(model.mlp)\n",
    "importlib.reload(train.mlp_trainer)\n",
    "from model.mlp import MLP\n",
    "from train.mlp_trainer import MLPTrainer"
   ]
  },
  {
   "cell_type": "code",
   "execution_count": 8,
   "id": "ea717c33",
   "metadata": {},
   "outputs": [],
   "source": [
    "# Placeholder for results\n",
    "results = []"
   ]
  },
  {
   "cell_type": "code",
   "execution_count": 9,
   "id": "c05189ed",
   "metadata": {},
   "outputs": [
    {
     "name": "stderr",
     "output_type": "stream",
     "text": [
      "2025-06-03 16:45:45,871 - INFO - Training MLP with parameters: {'hidden_sizes': [64, 32], 'learning_rate': 0.001, 'activation': 'relu', 'epochs': 1000, 'threshold': 0.5, 'output_size': 1}\n",
      "2025-06-03 16:45:45,903 - INFO - Input data shape: (132669, 16)\n"
     ]
    },
    {
     "name": "stdout",
     "output_type": "stream",
     "text": [
      "Epoch 100/1000, Train Loss: 0.7610, Train Acc: 0.4161, Val Loss: 0.7615, Val Acc: 0.4163\n"
     ]
    },
    {
     "ename": "KeyboardInterrupt",
     "evalue": "",
     "output_type": "error",
     "traceback": [
      "\u001b[31m---------------------------------------------------------------------------\u001b[39m",
      "\u001b[31mKeyboardInterrupt\u001b[39m                         Traceback (most recent call last)",
      "\u001b[36mCell\u001b[39m\u001b[36m \u001b[39m\u001b[32mIn[9]\u001b[39m\u001b[32m, line 15\u001b[39m\n\u001b[32m     13\u001b[39m \u001b[38;5;66;03m# Train\u001b[39;00m\n\u001b[32m     14\u001b[39m trainer = MLPTrainer(config)\n\u001b[32m---> \u001b[39m\u001b[32m15\u001b[39m eval_metrics = \u001b[43mtrainer\u001b[49m\u001b[43m.\u001b[49m\u001b[43mtrain\u001b[49m\u001b[43m(\u001b[49m\u001b[43mX_train\u001b[49m\u001b[43m,\u001b[49m\u001b[43m \u001b[49m\u001b[43my_train\u001b[49m\u001b[43m,\u001b[49m\u001b[43m \u001b[49m\u001b[43mX_val\u001b[49m\u001b[43m,\u001b[49m\u001b[43m \u001b[49m\u001b[43my_val\u001b[49m\u001b[43m,\u001b[49m\u001b[43m \u001b[49m\u001b[43mexperiment_dir\u001b[49m\u001b[43m)\u001b[49m\n\u001b[32m     17\u001b[39m \u001b[38;5;66;03m# Record results\u001b[39;00m\n\u001b[32m     18\u001b[39m results.append({\n\u001b[32m     19\u001b[39m     \u001b[33m'\u001b[39m\u001b[33mhidden_sizes\u001b[39m\u001b[33m'\u001b[39m: hidden_sizes,\n\u001b[32m     20\u001b[39m     \u001b[33m'\u001b[39m\u001b[33mlearning_rate\u001b[39m\u001b[33m'\u001b[39m: learning_rate,\n\u001b[32m   (...)\u001b[39m\u001b[32m     25\u001b[39m     \u001b[33m'\u001b[39m\u001b[33mf1\u001b[39m\u001b[33m'\u001b[39m: eval_metrics[\u001b[33m'\u001b[39m\u001b[33mf1\u001b[39m\u001b[33m'\u001b[39m]\n\u001b[32m     26\u001b[39m })\n",
      "\u001b[36mFile \u001b[39m\u001b[32mD:\\UIT\\Ky6\\Machine-Learning\\risk-assessment-covid19\\src\\train\\mlp_trainer.py:36\u001b[39m, in \u001b[36mMLPTrainer.train\u001b[39m\u001b[34m(self, X_train, y_train, X_val, y_val, output_dir)\u001b[39m\n\u001b[32m     33\u001b[39m logger.info(\u001b[33mf\u001b[39m\u001b[33m\"\u001b[39m\u001b[33mInput data shape: \u001b[39m\u001b[38;5;132;01m{\u001b[39;00mX_train_scaled.shape\u001b[38;5;132;01m}\u001b[39;00m\u001b[33m\"\u001b[39m)\n\u001b[32m     35\u001b[39m \u001b[38;5;66;03m# Train the model using early stopping to prevent overfitting\u001b[39;00m\n\u001b[32m---> \u001b[39m\u001b[32m36\u001b[39m \u001b[38;5;28;43mself\u001b[39;49m\u001b[43m.\u001b[49m\u001b[43mmodel\u001b[49m\u001b[43m.\u001b[49m\u001b[43mfit\u001b[49m\u001b[43m(\u001b[49m\n\u001b[32m     37\u001b[39m \u001b[43m    \u001b[49m\u001b[43mX_train\u001b[49m\u001b[43m=\u001b[49m\u001b[43mX_train_scaled\u001b[49m\u001b[43m,\u001b[49m\n\u001b[32m     38\u001b[39m \u001b[43m    \u001b[49m\u001b[43my_train\u001b[49m\u001b[43m=\u001b[49m\u001b[43my_train\u001b[49m\u001b[43m,\u001b[49m\n\u001b[32m     39\u001b[39m \u001b[43m    \u001b[49m\u001b[43mX_val\u001b[49m\u001b[43m=\u001b[49m\u001b[43mX_val_scaled\u001b[49m\u001b[43m,\u001b[49m\n\u001b[32m     40\u001b[39m \u001b[43m    \u001b[49m\u001b[43my_val\u001b[49m\u001b[43m=\u001b[49m\u001b[43my_val\u001b[49m\u001b[43m,\u001b[49m\n\u001b[32m     41\u001b[39m \u001b[43m    \u001b[49m\u001b[43mepochs\u001b[49m\u001b[43m=\u001b[49m\u001b[38;5;28;43mself\u001b[39;49m\u001b[43m.\u001b[49m\u001b[43mepochs\u001b[49m\u001b[43m,\u001b[49m\u001b[43m \u001b[49m\n\u001b[32m     42\u001b[39m \u001b[43m    \u001b[49m\u001b[43mearly_stopping\u001b[49m\u001b[43m=\u001b[49m\u001b[38;5;28;43;01mTrue\u001b[39;49;00m\u001b[43m,\u001b[49m\n\u001b[32m     43\u001b[39m \u001b[43m    \u001b[49m\u001b[43mpatience\u001b[49m\u001b[43m=\u001b[49m\u001b[32;43m5\u001b[39;49m\n\u001b[32m     44\u001b[39m \u001b[43m\u001b[49m\u001b[43m)\u001b[49m\n\u001b[32m     46\u001b[39m \u001b[38;5;66;03m# Retrieve the training and validation metrics\u001b[39;00m\n\u001b[32m     47\u001b[39m metrics = \u001b[38;5;28mself\u001b[39m.model.get_metrics()\n",
      "\u001b[36mFile \u001b[39m\u001b[32mD:\\UIT\\Ky6\\Machine-Learning\\risk-assessment-covid19\\src\\model\\mlp.py:192\u001b[39m, in \u001b[36mMLP.fit\u001b[39m\u001b[34m(self, X_train, y_train, X_val, y_val, epochs, early_stopping, patience)\u001b[39m\n\u001b[32m    190\u001b[39m \u001b[38;5;28;01mfor\u001b[39;00m l \u001b[38;5;129;01min\u001b[39;00m \u001b[38;5;28mrange\u001b[39m(\u001b[38;5;28mlen\u001b[39m(\u001b[38;5;28mself\u001b[39m.weights)-\u001b[32m2\u001b[39m, -\u001b[32m1\u001b[39m, -\u001b[32m1\u001b[39m):\n\u001b[32m    191\u001b[39m     delta = np.dot(delta, \u001b[38;5;28mself\u001b[39m.weights[l+\u001b[32m1\u001b[39m].T) * \u001b[38;5;28mself\u001b[39m.activation_derivative(zs[l])\n\u001b[32m--> \u001b[39m\u001b[32m192\u001b[39m     dW[l] = (\u001b[32m1\u001b[39m/m) * \u001b[43mnp\u001b[49m\u001b[43m.\u001b[49m\u001b[43mdot\u001b[49m\u001b[43m(\u001b[49m\u001b[43mactivations\u001b[49m\u001b[43m[\u001b[49m\u001b[43ml\u001b[49m\u001b[43m]\u001b[49m\u001b[43m.\u001b[49m\u001b[43mT\u001b[49m\u001b[43m,\u001b[49m\u001b[43m \u001b[49m\u001b[43mdelta\u001b[49m\u001b[43m)\u001b[49m\n\u001b[32m    193\u001b[39m     db[l] = (\u001b[32m1\u001b[39m/m) * np.sum(delta, axis=\u001b[32m0\u001b[39m, keepdims=\u001b[38;5;28;01mTrue\u001b[39;00m)\n\u001b[32m    195\u001b[39m \u001b[38;5;66;03m# Update parameters\u001b[39;00m\n",
      "\u001b[31mKeyboardInterrupt\u001b[39m: "
     ]
    }
   ],
   "source": [
    "for i, (hidden_sizes, learning_rate, activation) in enumerate(param_combinations):\n",
    "    params = {\n",
    "        'hidden_sizes': hidden_sizes,\n",
    "        'learning_rate': learning_rate,\n",
    "        'activation': activation,\n",
    "        'epochs': 1000,\n",
    "        'threshold': 0.5,\n",
    "        'output_size': 1\n",
    "    }\n",
    "\n",
    "    config = {'params': params}\n",
    "\n",
    "    # Train\n",
    "    trainer = MLPTrainer(config)\n",
    "    eval_metrics = trainer.train(X_train, y_train, X_val, y_val, experiment_dir)\n",
    "\n",
    "    # Record results\n",
    "    results.append({\n",
    "        'hidden_sizes': hidden_sizes,\n",
    "        'learning_rate': learning_rate,\n",
    "        'activation': activation,\n",
    "        'accuracy': eval_metrics['accuracy'],\n",
    "        'precision': eval_metrics['precision'],\n",
    "        'recall': eval_metrics['recall'],\n",
    "        'f1': eval_metrics['f1']\n",
    "    })\n",
    "\n",
    "# Convert to DataFrame\n",
    "scratch_results_df = pd.DataFrame(results)\n",
    "\n",
    "# Save to CSV\n",
    "scratch_results_df.to_csv(experiment_dir / 'scratch_finetune_results.csv', index=False)\n",
    "\n",
    "# (Optional) Print top configurations based on F1-score\n",
    "print(scratch_results_df.sort_values(by='f1', ascending=False).head())"
   ]
  },
  {
   "cell_type": "code",
   "execution_count": null,
   "id": "ef2f67bd",
   "metadata": {},
   "outputs": [],
   "source": [
    "# Get best hyperparameter set\n",
    "best_result = scratch_results_df.loc[scratch_results_df['f1'].idxmax()]\n",
    "best_params = {\n",
    "    'hidden_sizes': best_result['hidden_sizes'],\n",
    "    'learning_rate': best_result['learning_rate'],\n",
    "    'activation': best_result['activation']\n",
    "}\n",
    "\n",
    "print(\"Best parameters based on F1-score:\")\n",
    "print(best_params)\n",
    "print(\"\\nValidation metrics:\")\n",
    "print(f\"Accuracy: {best_result['accuracy']:.4f}\")\n",
    "print(f\"Precision: {best_result['precision']:.4f}\")\n",
    "print(f\"Recall: {best_result['recall']:.4f}\")\n",
    "print(f\"F1-score: {best_result['f1']:.4f}\")"
   ]
  },
  {
   "cell_type": "code",
   "execution_count": null,
   "id": "50627c6b",
   "metadata": {},
   "outputs": [],
   "source": [
    "# Plot into chart"
   ]
  },
  {
   "cell_type": "markdown",
   "id": "67e8ef68",
   "metadata": {},
   "source": [
    "# MLP Sklearn"
   ]
  },
  {
   "cell_type": "code",
   "execution_count": null,
   "id": "34a3a5f3",
   "metadata": {},
   "outputs": [],
   "source": [
    "# Import libraries\n",
    "from sklearn.neural_network import MLPClassifier\n",
    "from sklearn.metrics import accuracy_score, precision_score, recall_score, f1_score, classification_report\n",
    "import logging"
   ]
  },
  {
   "cell_type": "code",
   "execution_count": null,
   "id": "b3916999",
   "metadata": {},
   "outputs": [],
   "source": [
    "results = []\n",
    "\n",
    "for i, (hidden_sizes, learning_rate, activation) in enumerate(param_combinations):\n",
    "    params = {\n",
    "        'hidden_layer_sizes': tuple(hidden_sizes),\n",
    "        'learning_rate_init': learning_rate,\n",
    "        'activation': activation,\n",
    "        'max_iter': 1000,\n",
    "        'random_state': 42\n",
    "    }\n",
    "\n",
    "    # Log model configuration\n",
    "    logging.info(f\"Training MLP using sklearn with parameters: {params}\")\n",
    "\n",
    "    # Initialize sklearn MLP model\n",
    "    model = MLPClassifier(**params)\n",
    "\n",
    "    # Train model\n",
    "    model.fit(X_train, y_train)\n",
    "\n",
    "    # Predict\n",
    "    y_pred_train = model.predict(X_train)\n",
    "    y_pred_val = model.predict(X_val)\n",
    "\n",
    "    # Calculate metrics\n",
    "    train_metrics = {\n",
    "        'accuracy': accuracy_score(y_train, y_pred_train),\n",
    "        'precision': precision_score(y_train, y_pred_train, average='macro'),\n",
    "        'recall': recall_score(y_train, y_pred_train, average='macro'),\n",
    "        'f1': f1_score(y_train, y_pred_train, average='macro')\n",
    "    }\n",
    "\n",
    "    val_metrics = {\n",
    "        'accuracy': accuracy_score(y_val, y_pred_val),\n",
    "        'precision': precision_score(y_val, y_pred_val, average='macro'),\n",
    "        'recall': recall_score(y_val, y_pred_val, average='macro'),\n",
    "        'f1': f1_score(y_val, y_pred_val, average='macro')\n",
    "    }\n",
    "\n",
    "    # Record results\n",
    "    results.append({\n",
    "        'hidden_sizes': hidden_sizes,\n",
    "        'learning_rate': learning_rate,\n",
    "        'activation': activation,\n",
    "        'accuracy': val_metrics['accuracy'],\n",
    "        'precision': val_metrics['precision'],\n",
    "        'recall': val_metrics['recall'],\n",
    "        'f1': val_metrics['f1']\n",
    "    })\n",
    "\n",
    "    # Log training metrics\n",
    "    logging.info(\"Training metrics:\")\n",
    "    logging.info(f\"Accuracy: {train_metrics['accuracy']:.4f}\")\n",
    "    logging.info(f\"Precision: {train_metrics['precision']:.4f}\")\n",
    "    logging.info(f\"Recall: {train_metrics['recall']:.4f}\")\n",
    "    logging.info(f\"F1 Score: {train_metrics['f1']:.4f}\")\n",
    "    logging.info(\"Classification Report:\\n\" + classification_report(y_train, y_pred_train))\n",
    "\n",
    "    # Log validation metrics\n",
    "    logging.info(\"Validation results:\")\n",
    "    logging.info(f\"Accuracy: {val_metrics['accuracy']:.4f}\")\n",
    "    logging.info(f\"Precision: {val_metrics['precision']:.4f}\")\n",
    "    logging.info(f\"Recall: {val_metrics['recall']:.4f}\")\n",
    "    logging.info(f\"F1 Score: {val_metrics['f1']:.4f}\")\n",
    "    logging.info(\"Classification Report:\\n\" + classification_report(y_val, y_pred_val))\n",
    "\n",
    "# Convert to DataFrame\n",
    "sklearn_results_df = pd.DataFrame(results)\n",
    "\n",
    "# Save to CSV\n",
    "sklearn_results_df.to_csv(experiment_dir / 'sklearn_finetune_results.csv', index=False)\n",
    "\n",
    "# Print top 5 based on F1-score\n",
    "print(sklearn_results_df.sort_values(by='f1', ascending=False).head())"
   ]
  },
  {
   "cell_type": "code",
   "execution_count": null,
   "id": "0ad76bad",
   "metadata": {},
   "outputs": [],
   "source": [
    "# Get best hyperparameter set\n",
    "best_result = sklearn_results_df.loc[sklearn_results_df['f1'].idxmax()]\n",
    "best_params = {\n",
    "    'hidden_sizes': best_result['hidden_sizes'],\n",
    "    'learning_rate': best_result['learning_rate'],\n",
    "    'activation': best_result['activation']\n",
    "}\n",
    "\n",
    "print(\"Best parameters based on F1-score:\")\n",
    "print(best_params)\n",
    "print(\"\\nValidation metrics:\")\n",
    "print(f\"Accuracy: {best_result['accuracy']:.4f}\")\n",
    "print(f\"Precision: {best_result['precision']:.4f}\")\n",
    "print(f\"Recall: {best_result['recall']:.4f}\")\n",
    "print(f\"F1-score: {best_result['f1']:.4f}\")"
   ]
  },
  {
   "cell_type": "code",
   "execution_count": null,
   "id": "50627c6b",
   "metadata": {},
   "outputs": [],
   "source": [
    "# Plot into charts using finetune_results.csv"
   ]
  }
 ],
 "metadata": {
  "kernelspec": {
   "display_name": "Python 3",
   "language": "python",
   "name": "python3"
  },
  "language_info": {
   "codemirror_mode": {
    "name": "ipython",
    "version": 3
   },
   "file_extension": ".py",
   "mimetype": "text/x-python",
   "name": "python",
   "nbconvert_exporter": "python",
   "pygments_lexer": "ipython3",
   "version": "3.13.3"
  }
 },
 "nbformat": 4,
 "nbformat_minor": 5
}
