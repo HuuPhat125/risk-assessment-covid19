{
 "cells": [
  {
   "cell_type": "markdown",
   "metadata": {},
   "source": [
    "## **Logistic Regression from scratch**"
   ]
  },
  {
   "cell_type": "code",
   "execution_count": 1,
   "metadata": {},
   "outputs": [],
   "source": [
    "import os\n",
    "import sys\n",
    "import argparse\n",
    "import time\n",
    "import seaborn as sns\n",
    "from matplotlib import pyplot as plt\n",
    "from sklearn.metrics import confusion_matrix\n",
    "\n",
    "src_path = os.path.abspath('..')\n",
    "if src_path not in sys.path:\n",
    "    sys.path.append(src_path)\n",
    "\n",
    "from src.model.logistic_regression import LogisticRegression\n",
    "from src.utils.data_processing import load_data, scale_numerical_features\n",
    "from src.utils.model_utils import create_output_dir, load_config, save_checkpoint\n",
    "from src.utils.visualization import plot_confusion_matrix"
   ]
  },
  {
   "cell_type": "code",
   "execution_count": 2,
   "metadata": {},
   "outputs": [],
   "source": [
    "X_train, y_train = load_data(\"../data/train.csv\")\n",
    "X_val, y_val = load_data(\"../data/val.csv\")\n",
    "X_test, y_test = load_data(\"../data/test.csv\")\n",
    "\n",
    "X_train_scaled, X_val_scaled, scaler = scale_numerical_features(X_train=X_train, X_val=X_val, features_to_scale=['AGE'])\n",
    "X_test_scaled = X_test.copy()\n",
    "X_test_scaled['AGE'] = scaler.transform(X_test[['AGE']])"
   ]
  },
  {
   "cell_type": "code",
   "execution_count": 3,
   "metadata": {},
   "outputs": [],
   "source": [
    "def train_and_evaluate(lr, penalty, C):\n",
    "    model = LogisticRegression(\n",
    "        learning_rate=lr,\n",
    "        penalty=penalty,\n",
    "        C=C\n",
    "    )\n",
    "    start_time = time.time()\n",
    "    model.fit(X_train, y_train, X_val=X_val, y_val=y_val, early_stopping=True, patience=10)\n",
    "    training_time = time.time() - start_time\n",
    "\n",
    "    val_pred = model.predict(X_val)\n",
    "    metrics = model.compute_metrics(y_val, val_pred)\n",
    "    return metrics['accuracy'], training_time, model"
   ]
  },
  {
   "cell_type": "code",
   "execution_count": null,
   "metadata": {},
   "outputs": [
    {
     "name": "stdout",
     "output_type": "stream",
     "text": [
      "Training with penalty=l1, C=0.01, lr=0.1 => Accuracy: 0.3340, Training Time: 0.8308 seconds\n",
      "Training with penalty=l1, C=0.01, lr=0.05 => Accuracy: 0.3564, Training Time: 1.2142 seconds\n",
      "Training with penalty=l1, C=0.01, lr=0.01 => Accuracy: 0.6382, Training Time: 9.1982 seconds\n",
      "Training with penalty=l1, C=0.01, lr=0.001 => Accuracy: 0.7248, Training Time: 457.5534 seconds\n",
      "Training with penalty=l1, C=0.01, lr=0.0001 => Accuracy: 0.6664, Training Time: 560.9543 seconds\n",
      "Training with penalty=l1, C=0.1, lr=0.1 => Accuracy: 0.6666, Training Time: 0.7457 seconds\n",
      "Training with penalty=l1, C=0.1, lr=0.05 => Accuracy: 0.6666, Training Time: 0.5687 seconds\n",
      "Training with penalty=l1, C=0.1, lr=0.01 => Accuracy: 0.6530, Training Time: 0.7489 seconds\n"
     ]
    },
    {
     "name": "stderr",
     "output_type": "stream",
     "text": [
      "d:\\Miniconda3\\envs\\mlops\\lib\\site-packages\\sklearn\\metrics\\_classification.py:1565: UndefinedMetricWarning: Precision is ill-defined and being set to 0.0 in labels with no predicted samples. Use `zero_division` parameter to control this behavior.\n",
      "  _warn_prf(average, modifier, f\"{metric.capitalize()} is\", len(result))\n",
      "d:\\Miniconda3\\envs\\mlops\\lib\\site-packages\\sklearn\\metrics\\_classification.py:1565: UndefinedMetricWarning: Precision is ill-defined and being set to 0.0 in labels with no predicted samples. Use `zero_division` parameter to control this behavior.\n",
      "  _warn_prf(average, modifier, f\"{metric.capitalize()} is\", len(result))\n",
      "d:\\Miniconda3\\envs\\mlops\\lib\\site-packages\\sklearn\\metrics\\_classification.py:1565: UndefinedMetricWarning: Precision is ill-defined and being set to 0.0 in labels with no predicted samples. Use `zero_division` parameter to control this behavior.\n",
      "  _warn_prf(average, modifier, f\"{metric.capitalize()} is\", len(result))\n"
     ]
    },
    {
     "name": "stdout",
     "output_type": "stream",
     "text": [
      "Training with penalty=l1, C=0.1, lr=0.001 => Accuracy: 0.6668, Training Time: 497.2857 seconds\n"
     ]
    }
   ],
   "source": [
    "learning_rates = [0.1, 0.05, 0.01, 0.001, 0.0001]\n",
    "penalties = ['l1', 'l2', None]\n",
    "C_values = [0.01, 0.1, 1]\n",
    "\n",
    "best_accuracy = 0\n",
    "best_params = None\n",
    "\n",
    "for penalty in penalties:\n",
    "    if penalty == None:\n",
    "        C_current = [None]\n",
    "    else:\n",
    "        C_current = C_values\n",
    "\n",
    "    for C in C_current:\n",
    "        for lr in learning_rates:\n",
    "            accuracy, training_time, model = train_and_evaluate(lr, penalty, C)\n",
    "            print(f\"Training with penalty={penalty}, C={C}, lr={lr} => Accuracy: {accuracy:.4f}, Training Time: {training_time:.4f} seconds\")\n",
    "            if accuracy > best_accuracy:\n",
    "                best_accuracy = accuracy\n",
    "                best_params = (lr, penalty, C)\n",
    "\n",
    "print(\"==============================================================\")\n",
    "print(\"Best params:\", best_params)\n",
    "print(\"Best accuracy:\", best_accuracy)\n"
   ]
  },
  {
   "cell_type": "code",
   "execution_count": null,
   "metadata": {},
   "outputs": [],
   "source": [
    "# Validate the best model on the test set\n",
    "best_lr, best_penalty, best_C = best_params\n",
    "best_model = LogisticRegression(\n",
    "    learning_rate=best_lr,\n",
    "    penalty=best_penalty,\n",
    "    C=best_C\n",
    ")\n",
    "\n",
    "best_model.fit(X_train, y_train, X_val=X_val, y_val=y_val, early_stopping=True, patience=10)\n",
    "y_test_pred = best_model.predict(X_test)\n",
    "metrics = best_model.compute_metrics(y_test, y_test_pred)\n",
    "\n",
    "print(\"Accuracy:\", metrics['accuracy'])\n",
    "print(\"Precision:\", metrics['precision'])\n",
    "print(\"Recall:\", metrics['recall'])\n",
    "print(\"F1 Score:\", metrics['f1_score'])\n",
    "print(\"===================================\")\n",
    "print(\"Classification Report:\", metrics['classification_report'])"
   ]
  },
  {
   "cell_type": "code",
   "execution_count": null,
   "metadata": {},
   "outputs": [],
   "source": [
    "# Plot confusion matrix\n",
    "cm = confusion_matrix(y_test, y_test_pred)\n",
    "plt.figure(figsize=(8, 6))\n",
    "sns.heatmap(cm, annot=True, fmt='d', cmap='Blues')\n",
    "plt.title(f'Confusion Matrix - Best Model (lr={best_lr}, penalty={best_penalty}, C={best_C})')\n",
    "plot_confusion_matrix(cm, classes=['No', 'Yes'])\n",
    "plt.ylabel('True Label')\n",
    "plt.xlabel('Predicted Label')"
   ]
  },
  {
   "cell_type": "markdown",
   "metadata": {},
   "source": [
    "## **Logistic Regression Sklearn**"
   ]
  },
  {
   "cell_type": "code",
   "execution_count": null,
   "metadata": {},
   "outputs": [],
   "source": [
    "from sklearn.model_selection import GridSearchCV\n",
    "from sklearn.linear_model import LogisticRegression\n",
    "from sklearn.metrics import classification_report, accuracy_score, precision_score, recall_score, f1_score, confusion_matrix"
   ]
  },
  {
   "cell_type": "code",
   "execution_count": null,
   "metadata": {},
   "outputs": [
    {
     "name": "stdout",
     "output_type": "stream",
     "text": [
      "Best params: {'C': 0.01, 'penalty': 'l1'}\n"
     ]
    }
   ],
   "source": [
    "param_grid = {'penalty': ['l1', 'l2', None],\n",
    "              'C': [0.01, 0.1, 1],\n",
    "              'solver': ['liblinear', 'saga']}\n",
    "\n",
    "grid = GridSearchCV(LogisticRegression(solver='liblinear'), param_grid, cv=5)\n",
    "grid.fit(X_train, y_train)\n",
    "print(\"Best params:\", grid.best_params_)"
   ]
  },
  {
   "cell_type": "code",
   "execution_count": null,
   "metadata": {},
   "outputs": [
    {
     "name": "stdout",
     "output_type": "stream",
     "text": [
      "Validation Accuracy (Grid Search): 0.7636\n",
      "Validation Precision (Grid Search): 0.6742\n",
      "Validation Recall (Grid Search): 0.5620\n",
      "Validation F1 Score (Grid Search): 0.6130\n",
      "Classification Report (Grid Search):\n",
      "              precision    recall  f1-score   support\n",
      "\n",
      "           0       0.80      0.86      0.83     29487\n",
      "           1       0.67      0.56      0.61     14736\n",
      "\n",
      "    accuracy                           0.76     44223\n",
      "   macro avg       0.74      0.71      0.72     44223\n",
      "weighted avg       0.76      0.76      0.76     44223\n",
      "\n",
      "Validation Confusion Matrix (Grid Search):\n",
      "[[25485  4002]\n",
      " [ 6454  8282]]\n"
     ]
    }
   ],
   "source": [
    "# Validate the best model on the test set\n",
    "best_sklearn_model = grid.best_estimator_\n",
    "y_test_pred = best_sklearn_model.predict(X_test)\n",
    "print(\"Validate the best model on the test set\")\n",
    "print(\"Accuracy:\", accuracy_score(y_test, y_test_pred))\n",
    "print(\"Precision:\", precision_score(y_test, y_test_pred, average='weighted'))\n",
    "print(\"Recall:\", recall_score(y_test, y_test_pred, average='weighted'))\n",
    "print(\"F1 Score:\", f1_score(y_test, y_test_pred, average='weighted'))\n",
    "print(\"===================================\")\n",
    "print(\"Classification Report:\\n\", classification_report(y_test, y_test_pred))"
   ]
  },
  {
   "cell_type": "code",
   "execution_count": null,
   "metadata": {},
   "outputs": [],
   "source": [
    "# Plot confusion matrix\n",
    "conf_matrix = confusion_matrix(y_test, y_test_pred)\n",
    "plt.figure(figsize=(8, 6))\n",
    "sns.heatmap(conf_matrix, annot=True, fmt='d', cmap='Blues')\n",
    "plt.title(f'Confusion Matrix - {best_sklearn_model.__class__.__name__}')\n",
    "plt.show()"
   ]
  }
 ],
 "metadata": {
  "kernelspec": {
   "display_name": "mlops",
   "language": "python",
   "name": "python3"
  },
  "language_info": {
   "codemirror_mode": {
    "name": "ipython",
    "version": 3
   },
   "file_extension": ".py",
   "mimetype": "text/x-python",
   "name": "python",
   "nbconvert_exporter": "python",
   "pygments_lexer": "ipython3",
   "version": "3.10.16"
  }
 },
 "nbformat": 4,
 "nbformat_minor": 2
}
